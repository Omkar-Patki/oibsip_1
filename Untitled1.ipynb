{
  "nbformat": 4,
  "nbformat_minor": 0,
  "metadata": {
    "colab": {
      "provenance": [],
      "authorship_tag": "ABX9TyPbdz6tuTt9a7vQRxWQqrPt",
      "include_colab_link": true
    },
    "kernelspec": {
      "name": "python3",
      "display_name": "Python 3"
    },
    "language_info": {
      "name": "python"
    }
  },
  "cells": [
    {
      "cell_type": "markdown",
      "metadata": {
        "id": "view-in-github",
        "colab_type": "text"
      },
      "source": [
        "<a href=\"https://colab.research.google.com/github/Omkar-Patki/oibsip_1/blob/main/Untitled1.ipynb\" target=\"_parent\"><img src=\"https://colab.research.google.com/assets/colab-badge.svg\" alt=\"Open In Colab\"/></a>"
      ]
    },
    {
      "cell_type": "code",
      "execution_count": null,
      "metadata": {
        "colab": {
          "base_uri": "https://localhost:8080/"
        },
        "id": "M_Ipj4nLbGan",
        "outputId": "fde0f239-ce73-43fa-db52-be76bb8c344f"
      },
      "outputs": [
        {
          "output_type": "stream",
          "name": "stdout",
          "text": [
            "Epoch 1/10\n"
          ]
        },
        {
          "output_type": "stream",
          "name": "stderr",
          "text": [
            "/usr/local/lib/python3.7/dist-packages/tensorflow/python/util/dispatch.py:1082: UserWarning: \"`sparse_categorical_crossentropy` received `from_logits=True`, but the `output` argument was produced by a sigmoid or softmax activation and thus does not represent logits. Was this intended?\"\n",
            "  return dispatch_target(*args, **kwargs)\n"
          ]
        },
        {
          "output_type": "stream",
          "name": "stdout",
          "text": [
            "25/25 [==============================] - 30s 1s/step - loss: 2.3125 - accuracy: 0.1053 - val_loss: 2.2954 - val_accuracy: 0.1404\n",
            "Epoch 2/10\n",
            "25/25 [==============================] - 27s 1s/step - loss: 2.2973 - accuracy: 0.1212 - val_loss: 2.2877 - val_accuracy: 0.1487\n",
            "Epoch 3/10\n",
            "25/25 [==============================] - 28s 1s/step - loss: 2.2909 - accuracy: 0.1297 - val_loss: 2.2811 - val_accuracy: 0.1554\n",
            "Epoch 4/10\n",
            "25/25 [==============================] - 31s 1s/step - loss: 2.2844 - accuracy: 0.1351 - val_loss: 2.2749 - val_accuracy: 0.1647\n",
            "Epoch 5/10\n",
            "25/25 [==============================] - 30s 1s/step - loss: 2.2785 - accuracy: 0.1441 - val_loss: 2.2680 - val_accuracy: 0.1693\n",
            "Epoch 6/10\n",
            "25/25 [==============================] - 30s 1s/step - loss: 2.2730 - accuracy: 0.1513 - val_loss: 2.2606 - val_accuracy: 0.1788\n",
            "Epoch 7/10\n",
            "25/25 [==============================] - 29s 1s/step - loss: 2.2657 - accuracy: 0.1540 - val_loss: 2.2525 - val_accuracy: 0.1846\n",
            "Epoch 8/10\n",
            "25/25 [==============================] - 29s 1s/step - loss: 2.2597 - accuracy: 0.1608 - val_loss: 2.2438 - val_accuracy: 0.1891\n",
            "Epoch 9/10\n",
            "25/25 [==============================] - 30s 1s/step - loss: 2.2524 - accuracy: 0.1651 - val_loss: 2.2346 - val_accuracy: 0.1989\n",
            "Epoch 10/10\n",
            "25/25 [==============================] - 29s 1s/step - loss: 2.2446 - accuracy: 0.1680 - val_loss: 2.2244 - val_accuracy: 0.2050\n"
          ]
        }
      ],
      "source": [
        "import tensorflow as tf\n",
        "import matplotlib.pyplot as plt\n",
        "import random\n",
        "import numpy as np\n",
        "\n",
        "dataset = tf.keras.datasets.cifar10\n",
        "(x_train, y_train ), (x_test,y_test)= dataset.load_data()\n",
        "labels =[\"airplane\", \"automobile\",\"birds\", \"cat\", \"deer\", \"dog\"]\n",
        "labels_dict= {i:name for i,name in enumerate (labels)}\n",
        "labels_dict\n",
        "x_train.shape\n",
        "x_test.shape\n",
        "x_train, x_test=x_train/255,x_test/255\n",
        "model = tf.keras.models.Sequential([\n",
        "tf.keras.layers.Conv2D(32, (3,3), input_shape=(32,32,3), activation=\"relu\"),\n",
        "tf.keras.layers.MaxPool2D((2,2)),\n",
        "tf.keras.layers.Conv2D(64, (2,2)),\n",
        "tf.keras.layers.MaxPool2D((2,2)),\n",
        "tf.keras.layers.Flatten(),\n",
        "tf.keras.layers.Dense(128, activation=\"relu\"),\n",
        "tf.keras.layers.Dropout(0.4),\n",
        "tf.keras.layers.Dense(32, activation=\"relu\"),\n",
        "tf.keras.layers.Dropout(0.2),\n",
        "tf.keras.layers.Dense(10, activation=\"sigmoid\")])\n",
        "sgd = tf.keras.optimizers.SGD(learning_rate=0.01,momentum=0.01)\n",
        "model.compile(optimizer=sgd, loss=tf.keras.losses.\n",
        "SparseCategoricalCrossentropy(from_logits=True), metrics=[\"accuracy\"])\n",
        "history = model.fit(x_train, y_train, validation_data=(x_test, y_test),\n",
        "batch_size=2000, epochs=10)\n"
      ]
    }
  ]
}